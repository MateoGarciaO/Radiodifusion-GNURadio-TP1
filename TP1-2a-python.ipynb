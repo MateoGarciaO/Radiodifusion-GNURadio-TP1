{
 "cells": [
  {
   "cell_type": "code",
   "execution_count": 1,
   "metadata": {},
   "outputs": [],
   "source": [
    "import numpy as np\n",
    "import scipy.signal as sig\n",
    "\n",
    "\n",
    "# Mensaje y Portadora \n",
    "fs = 10e6\n",
    "fc = 1e6\n",
    "fm = 1e3\n",
    "m = 0.5\n",
    "t = np.arange(0, 1, 1/fs)\n",
    "\n",
    "# Señal Modulada\n",
    "AM = np.sin(2*np.pi*fm*t) * (1 + 0.5*np.sin(2*np.pi*fc*t))\n",
    "\n",
    "# Guardo la señal en un archivo\n",
    "AM = AM.astype(np.float32)\n",
    "with open(\"TP1-2a-AM.bin\", 'wb') as f:\n",
    "    AM.tofile(f)"
   ]
  },
  {
   "cell_type": "code",
   "execution_count": 3,
   "metadata": {},
   "outputs": [],
   "source": []
  }
 ],
 "metadata": {
  "kernelspec": {
   "display_name": "base",
   "language": "python",
   "name": "python3"
  },
  "language_info": {
   "codemirror_mode": {
    "name": "ipython",
    "version": 3
   },
   "file_extension": ".py",
   "mimetype": "text/x-python",
   "name": "python",
   "nbconvert_exporter": "python",
   "pygments_lexer": "ipython3",
   "version": "3.9.13"
  },
  "orig_nbformat": 4
 },
 "nbformat": 4,
 "nbformat_minor": 2
}
